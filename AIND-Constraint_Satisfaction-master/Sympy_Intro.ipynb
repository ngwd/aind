{
 "cells": [
  {
   "cell_type": "markdown",
   "metadata": {},
   "source": [
    "# Warmup - Introduction to SymPy\n",
    "This lab exercise uses the [SymPy](http://www.sympy.org/en/index.html) symbolic math library to model constraints in the problem.  To do that, we will use symbols (`sympy.Symbol`), functions (`sympy.Function`), and expressions (`sympy.Expr`) from sympy, and then we'll combine the function and expression classes to make constraints -- evaluatable symbolic functions.\n",
    "\n",
    "In this warmup, you will be introduced to the syntax and functionality of SymPy:\n",
    "- [Example 1](#Example-1:-Symbols): Creating [symbols](http://docs.sympy.org/dev/modules/core.html#module-sympy.core.symbol)\n",
    "- [Example 2](#Example-2:-Expressions): Creating & manipulating [expressions](http://docs.sympy.org/dev/modules/core.html#id16) with [arithmetic & logical operators](http://docs.sympy.org/dev/modules/core.html#sympy-core)\n",
    "- [Example 3](#Example-3:-Symbolic-substitution-and-expression-evaluation): Symbolic [substitution & evaluation](http://docs.sympy.org/dev/modules/core.html#subs)\n",
    "- [Exercises](#SymPy-Exercises): Creating & manipulating constraints & [functions](http://docs.sympy.org/dev/modules/functions/index.html)\n",
    "\n",
    "(See a list of common \"gotchas\" for sympy in their documentation: http://docs.sympy.org/dev/gotchas.html)\n",
    "\n",
    "Start by reading and running the example cells, then complete the steps in the warmup cell."
   ]
  },
  {
   "cell_type": "code",
   "execution_count": 1,
   "metadata": {
    "collapsed": true
   },
   "outputs": [],
   "source": [
    "import matplotlib as mpl\n",
    "import matplotlib.pyplot as plt\n",
    "\n",
    "from util import constraint\n",
    "from IPython.display import display\n",
    "from sympy import *\n",
    "init_printing()"
   ]
  },
  {
   "cell_type": "markdown",
   "metadata": {},
   "source": [
    "## Example 1: Symbols\n",
    "**Sympy provides the `Symbol` class to create symbolic variables.  Create individual symbols by calling the constructor with a symbol name.**  (Tip: Use the `display()` function to pretty-print symbolic terms.)"
   ]
  },
  {
   "cell_type": "code",
   "execution_count": 48,
   "metadata": {},
   "outputs": [
    {
     "data": {
      "image/png": "[encoded data removed]",
      "text/latex": [
       "$$1$$"
      ],
      "text/plain": [
       "1"
      ]
     },
     "execution_count": 48,
     "metadata": {},
     "output_type": "execute_result"
    }
   ],
   "source": [
    "_x = symbols(\"x:3\")\n",
    "_x.index(_x[1])"
   ]
  },
  {
   "cell_type": "code",
   "execution_count": 42,
   "metadata": {},
   "outputs": [
    {
     "name": "stdout",
     "output_type": "stream",
     "text": [
      "pairs :\n",
      "\n"
     ]
    },
    {
     "data": {
      "image/png": "[encoded data removed]",
      "text/latex": [
       "$$\\left \\{ x_{0} : \\left\\{\\operatorname{diffDiag}{\\left (x_{0},x_{1} \\right )}, \\operatorname{diffDiag}{\\left (x_{0},x_{2} \\right )}, \\operatorname{diffDiag}{\\left (x_{0},x_{3} \\right )}, \\operatorname{diffDiag}{\\left (x_{0},x_{4} \\right )}, \\operatorname{diffDiag}{\\left (x_{0},x_{5} \\right )}, \\operatorname{diffDiag}{\\left (x_{0},x_{6} \\right )}, \\operatorname{diffDiag}{\\left (x_{0},x_{7} \\right )}, \\operatorname{diffRow}{\\left (x_{0},x_{1} \\right )}, \\operatorname{diffRow}{\\left (x_{0},x_{2} \\right )}, \\operatorname{diffRow}{\\left (x_{0},x_{3} \\right )}, \\operatorname{diffRow}{\\left (x_{0},x_{4} \\right )}, \\operatorname{diffRow}{\\left (x_{0},x_{5} \\right )}, \\operatorname{diffRow}{\\left (x_{0},x_{6} \\right )}, \\operatorname{diffRow}{\\left (x_{0},x_{7} \\right )}\\right\\}, \\quad x_{1} : \\left\\{\\operatorname{diffDiag}{\\left (x_{0},x_{1} \\right )}, \\operatorname{diffDiag}{\\left (x_{1},x_{3} \\right )}, \\operatorname{diffDiag}{\\left (x_{1},x_{4} \\right )}, \\operatorname{diffDiag}{\\left (x_{1},x_{5} \\right )}, \\operatorname{diffDiag}{\\left (x_{1},x_{7} \\right )}, \\operatorname{diffDiag}{\\left (x_{2},x_{1} \\right )}, \\operatorname{diffDiag}{\\left (x_{6},x_{1} \\right )}, \\operatorname{diffRow}{\\left (x_{0},x_{1} \\right )}, \\operatorname{diffRow}{\\left (x_{1},x_{3} \\right )}, \\operatorname{diffRow}{\\left (x_{1},x_{4} \\right )}, \\operatorname{diffRow}{\\left (x_{1},x_{5} \\right )}, \\operatorname{diffRow}{\\left (x_{1},x_{7} \\right )}, \\operatorname{diffRow}{\\left (x_{2},x_{1} \\right )}, \\operatorname{diffRow}{\\left (x_{6},x_{1} \\right )}\\right\\}, \\quad x_{2} : \\left\\{\\operatorname{diffDiag}{\\left (x_{0},x_{2} \\right )}, \\operatorname{diffDiag}{\\left (x_{2},x_{1} \\right )}, \\operatorname{diffDiag}{\\left (x_{2},x_{3} \\right )}, \\operatorname{diffDiag}{\\left (x_{2},x_{4} \\right )}, \\operatorname{diffDiag}{\\left (x_{2},x_{5} \\right )}, \\operatorname{diffDiag}{\\left (x_{2},x_{7} \\right )}, \\operatorname{diffDiag}{\\left (x_{6},x_{2} \\right )}, \\operatorname{diffRow}{\\left (x_{0},x_{2} \\right )}, \\operatorname{diffRow}{\\left (x_{2},x_{1} \\right )}, \\operatorname{diffRow}{\\left (x_{2},x_{3} \\right )}, \\operatorname{diffRow}{\\left (x_{2},x_{4} \\right )}, \\operatorname{diffRow}{\\left (x_{2},x_{5} \\right )}, \\operatorname{diffRow}{\\left (x_{2},x_{7} \\right )}, \\operatorname{diffRow}{\\left (x_{6},x_{2} \\right )}\\right\\}, \\quad x_{3} : \\left\\{\\operatorname{diffDiag}{\\left (x_{0},x_{3} \\right )}, \\operatorname{diffDiag}{\\left (x_{1},x_{3} \\right )}, \\operatorname{diffDiag}{\\left (x_{2},x_{3} \\right )}, \\operatorname{diffDiag}{\\left (x_{3},x_{4} \\right )}, \\operatorname{diffDiag}{\\left (x_{3},x_{5} \\right )}, \\operatorname{diffDiag}{\\left (x_{3},x_{7} \\right )}, \\operatorname{diffDiag}{\\left (x_{6},x_{3} \\right )}, \\operatorname{diffRow}{\\left (x_{0},x_{3} \\right )}, \\operatorname{diffRow}{\\left (x_{1},x_{3} \\right )}, \\operatorname{diffRow}{\\left (x_{2},x_{3} \\right )}, \\operatorname{diffRow}{\\left (x_{3},x_{4} \\right )}, \\operatorname{diffRow}{\\left (x_{3},x_{5} \\right )}, \\operatorname{diffRow}{\\left (x_{3},x_{7} \\right )}, \\operatorname{diffRow}{\\left (x_{6},x_{3} \\right )}\\right\\}, \\quad x_{4} : \\left\\{\\operatorname{diffDiag}{\\left (x_{0},x_{4} \\right )}, \\operatorname{diffDiag}{\\left (x_{1},x_{4} \\right )}, \\operatorname{diffDiag}{\\left (x_{2},x_{4} \\right )}, \\operatorname{diffDiag}{\\left (x_{3},x_{4} \\right )}, \\operatorname{diffDiag}{\\left (x_{5},x_{4} \\right )}, \\operatorname{diffDiag}{\\left (x_{6},x_{4} \\right )}, \\operatorname{diffDiag}{\\left (x_{7},x_{4} \\right )}, \\operatorname{diffRow}{\\left (x_{0},x_{4} \\right )}, \\operatorname{diffRow}{\\left (x_{1},x_{4} \\right )}, \\operatorname{diffRow}{\\left (x_{2},x_{4} \\right )}, \\operatorname{diffRow}{\\left (x_{3},x_{4} \\right )}, \\operatorname{diffRow}{\\left (x_{5},x_{4} \\right )}, \\operatorname{diffRow}{\\left (x_{6},x_{4} \\right )}, \\operatorname{diffRow}{\\left (x_{7},x_{4} \\right )}\\right\\}, \\quad x_{5} : \\left\\{\\operatorname{diffDiag}{\\left (x_{0},x_{5} \\right )}, \\operatorname{diffDiag}{\\left (x_{1},x_{5} \\right )}, \\operatorname{diffDiag}{\\left (x_{2},x_{5} \\right )}, \\operatorname{diffDiag}{\\left (x_{3},x_{5} \\right )}, \\operatorname{diffDiag}{\\left (x_{5},x_{4} \\right )}, \\operatorname{diffDiag}{\\left (x_{6},x_{5} \\right )}, \\operatorname{diffDiag}{\\left (x_{7},x_{5} \\right )}, \\operatorname{diffRow}{\\left (x_{0},x_{5} \\right )}, \\operatorname{diffRow}{\\left (x_{1},x_{5} \\right )}, \\operatorname{diffRow}{\\left (x_{2},x_{5} \\right )}, \\operatorname{diffRow}{\\left (x_{3},x_{5} \\right )}, \\operatorname{diffRow}{\\left (x_{5},x_{4} \\right )}, \\operatorname{diffRow}{\\left (x_{6},x_{5} \\right )}, \\operatorname{diffRow}{\\left (x_{7},x_{5} \\right )}\\right\\}, \\quad x_{6} : \\left\\{\\operatorname{diffDiag}{\\left (x_{0},x_{6} \\right )}, \\operatorname{diffDiag}{\\left (x_{6},x_{1} \\right )}, \\operatorname{diffDiag}{\\left (x_{6},x_{2} \\right )}, \\operatorname{diffDiag}{\\left (x_{6},x_{3} \\right )}, \\operatorname{diffDiag}{\\left (x_{6},x_{4} \\right )}, \\operatorname{diffDiag}{\\left (x_{6},x_{5} \\right )}, \\operatorname{diffDiag}{\\left (x_{6},x_{7} \\right )}, \\operatorname{diffRow}{\\left (x_{0},x_{6} \\right )}, \\operatorname{diffRow}{\\left (x_{6},x_{1} \\right )}, \\operatorname{diffRow}{\\left (x_{6},x_{2} \\right )}, \\operatorname{diffRow}{\\left (x_{6},x_{3} \\right )}, \\operatorname{diffRow}{\\left (x_{6},x_{4} \\right )}, \\operatorname{diffRow}{\\left (x_{6},x_{5} \\right )}, \\operatorname{diffRow}{\\left (x_{6},x_{7} \\right )}\\right\\}, \\quad x_{7} : \\left\\{\\operatorname{diffDiag}{\\left (x_{0},x_{7} \\right )}, \\operatorname{diffDiag}{\\left (x_{1},x_{7} \\right )}, \\operatorname{diffDiag}{\\left (x_{2},x_{7} \\right )}, \\operatorname{diffDiag}{\\left (x_{3},x_{7} \\right )}, \\operatorname{diffDiag}{\\left (x_{6},x_{7} \\right )}, \\operatorname{diffDiag}{\\left (x_{7},x_{4} \\right )}, \\operatorname{diffDiag}{\\left (x_{7},x_{5} \\right )}, \\operatorname{diffRow}{\\left (x_{0},x_{7} \\right )}, \\operatorname{diffRow}{\\left (x_{1},x_{7} \\right )}, \\operatorname{diffRow}{\\left (x_{2},x_{7} \\right )}, \\operatorname{diffRow}{\\left (x_{3},x_{7} \\right )}, \\operatorname{diffRow}{\\left (x_{6},x_{7} \\right )}, \\operatorname{diffRow}{\\left (x_{7},x_{4} \\right )}, \\operatorname{diffRow}{\\left (x_{7},x_{5} \\right )}\\right\\}\\right \\}$$"
      ],
      "text/plain": [
       "{x₀: set([diffDiag(x₀, x₁), diffDiag(x₀, x₂), diffDiag(x₀, x₃), diffDiag(x₀, x\n",
       "₄), diffDiag(x₀, x₅), diffDiag(x₀, x₆), diffDiag(x₀, x₇), diffRow(x₀, x₁), dif\n",
       "fRow(x₀, x₂), diffRow(x₀, x₃), diffRow(x₀, x₄), diffRow(x₀, x₅), diffRow(x₀, x\n",
       "₆), diffRow(x₀, x₇)]), x₁: set([diffDiag(x₀, x₁), diffDiag(x₁, x₃), diffDiag(x\n",
       "₁, x₄), diffDiag(x₁, x₅), diffDiag(x₁, x₇), diffDiag(x₂, x₁), diffDiag(x₆, x₁)\n",
       ", diffRow(x₀, x₁), diffRow(x₁, x₃), diffRow(x₁, x₄), diffRow(x₁, x₅), diffRow(\n",
       "x₁, x₇), diffRow(x₂, x₁), diffRow(x₆, x₁)]), x₂: set([diffDiag(x₀, x₂), diffDi\n",
       "ag(x₂, x₁), diffDiag(x₂, x₃), diffDiag(x₂, x₄), diffDiag(x₂, x₅), diffDiag(x₂,\n",
       " x₇), diffDiag(x₆, x₂), diffRow(x₀, x₂), diffRow(x₂, x₁), diffRow(x₂, x₃), dif\n",
       "fRow(x₂, x₄), diffRow(x₂, x₅), diffRow(x₂, x₇), diffRow(x₆, x₂)]), x₃: set([di\n",
       "ffDiag(x₀, x₃), diffDiag(x₁, x₃), diffDiag(x₂, x₃), diffDiag(x₃, x₄), diffDiag\n",
       "(x₃, x₅), diffDiag(x₃, x₇), diffDiag(x₆, x₃), diffRow(x₀, x₃), diffRow(x₁, x₃)\n",
       ", diffRow(x₂, x₃), diffRow(x₃, x₄), diffRow(x₃, x₅), diffRow(x₃, x₇), diffRow(\n",
       "x₆, x₃)]), x₄: set([diffDiag(x₀, x₄), diffDiag(x₁, x₄), diffDiag(x₂, x₄), diff\n",
       "Diag(x₃, x₄), diffDiag(x₅, x₄), diffDiag(x₆, x₄), diffDiag(x₇, x₄), diffRow(x₀\n",
       ", x₄), diffRow(x₁, x₄), diffRow(x₂, x₄), diffRow(x₃, x₄), diffRow(x₅, x₄), dif\n",
       "fRow(x₆, x₄), diffRow(x₇, x₄)]), x₅: set([diffDiag(x₀, x₅), diffDiag(x₁, x₅), \n",
       "diffDiag(x₂, x₅), diffDiag(x₃, x₅), diffDiag(x₅, x₄), diffDiag(x₆, x₅), diffDi\n",
       "ag(x₇, x₅), diffRow(x₀, x₅), diffRow(x₁, x₅), diffRow(x₂, x₅), diffRow(x₃, x₅)\n",
       ", diffRow(x₅, x₄), diffRow(x₆, x₅), diffRow(x₇, x₅)]), x₆: set([diffDiag(x₀, x\n",
       "₆), diffDiag(x₆, x₁), diffDiag(x₆, x₂), diffDiag(x₆, x₃), diffDiag(x₆, x₄), di\n",
       "ffDiag(x₆, x₅), diffDiag(x₆, x₇), diffRow(x₀, x₆), diffRow(x₆, x₁), diffRow(x₆\n",
       ", x₂), diffRow(x₆, x₃), diffRow(x₆, x₄), diffRow(x₆, x₅), diffRow(x₆, x₇)]), x\n",
       "₇: set([diffDiag(x₀, x₇), diffDiag(x₁, x₇), diffDiag(x₂, x₇), diffDiag(x₃, x₇)\n",
       ", diffDiag(x₆, x₇), diffDiag(x₇, x₄), diffDiag(x₇, x₅), diffRow(x₀, x₇), diffR\n",
       "ow(x₁, x₇), diffRow(x₂, x₇), diffRow(x₃, x₇), diffRow(x₆, x₇), diffRow(x₇, x₄)\n",
       ", diffRow(x₇, x₅)])}"
      ]
     },
     "metadata": {},
     "output_type": "display_data"
    }
   ],
   "source": [
    "a = symbols(\"a\")\n",
    "b = symbols(\"b\")\n",
    "a_i= symbols(\"a_i\")\n",
    "b_i = symbols(\"b_i\")\n",
    "\n",
    "# Define diffRow and diffDiag constraints\n",
    "diffRow = constraint(\"diffRow\", Ne(a,b)) \n",
    "diffDiag = constraint(\"diffDiag\", Ne(abs(a-b), abs(a_i - b_i)))\n",
    "\n",
    "N=8\n",
    "_vars = symbols(\"x:%d\"%N)\n",
    "_domain = set(range(N))\n",
    "variables = _vars\n",
    "domains = {v: _domain for v in _vars}\n",
    "_constraints = {x: set() for x in _vars}\n",
    "from itertools import combinations\n",
    "combinations = combinations(_vars, 2)\n",
    "#for v in combinations:\n",
    "#    print (v)\n",
    "#display(combinations)\n",
    "pairs = [(x1, x2) for x1 in _vars for x2 in _vars if x1!=x2 and _vars.index(x1)<_vars.index(x2)]\n",
    "print(\"pairs :\\n\")\n",
    "#display(pairs)\n",
    "for c in pairs:\n",
    "    # print(c[0], c[1], _vars.index(c[0]), _vars.index(c[1]))\n",
    "    _diffRow = diffRow.subs({a: c[0], b: c[1]})\n",
    "    _diffDiag = diffDiag.subs({a: c[0], b: c[1], a_i: _vars.index(c[0]), b_i: _vars.index(c[1])})\n",
    "    _constraints[c[0]].add(_diffRow)\n",
    "    _constraints[c[0]].add(_diffDiag)\n",
    "    _constraints[c[1]].add(_diffRow)\n",
    "    _constraints[c[1]].add(_diffDiag)\n",
    "display(_constraints)"
   ]
  },
  {
   "cell_type": "code",
   "execution_count": 32,
   "metadata": {},
   "outputs": [
    {
     "data": {
      "image/png": "[encoded data removed]",
      "text/latex": [
       "$$\\left \\{ x_{0} : \\left\\{\\right\\}, \\quad x_{1} : \\left\\{\\right\\}, \\quad x_{2} : \\left\\{\\right\\}, \\quad x_{3} : \\left\\{\\right\\}, \\quad x_{4} : \\left\\{\\right\\}, \\quad x_{5} : \\left\\{\\right\\}, \\quad x_{6} : \\left\\{\\right\\}, \\quad x_{7} : \\left\\{\\right\\}\\right \\}$$"
      ],
      "text/plain": [
       "{x₀: set([]), x₁: set([]), x₂: set([]), x₃: set([]), x₄: set([]), x₅: set([]),\n",
       " x₆: set([]), x₇: set([])}"
      ]
     },
     "metadata": {},
     "output_type": "display_data"
    },
    {
     "data": {
      "image/png": "[encoded data removed]",
      "text/latex": [
       "$$\\left ( x_{0}, \\quad x_{1}, \\quad x_{2}, \\quad x_{3}, \\quad x_{4}, \\quad x_{5}, \\quad x_{6}, \\quad x_{7}\\right )$$"
      ],
      "text/plain": [
       "(x₀, x₁, x₂, x₃, x₄, x₅, x₆, x₇)"
      ]
     },
     "metadata": {},
     "output_type": "display_data"
    },
    {
     "data": {
      "image/png": "[encoded data removed]",
      "text/latex": [
       "$$\\left\\{1, 2, 3, 4, 5, 6, 7, 8\\right\\}$$"
      ],
      "text/plain": [
       "set([1, 2, 3, 4, 5, 6, 7, 8])"
      ]
     },
     "metadata": {},
     "output_type": "display_data"
    },
    {
     "data": {
      "image/png": "[encoded data removed]",
      "text/latex": [
       "$$\\operatorname{DiffRow}{\\left (x_{0},x_{1} \\right )}$$"
      ],
      "text/plain": [
       "DiffRow(x₀, x₁)"
      ]
     },
     "metadata": {},
     "output_type": "display_data"
    },
    {
     "data": {
      "image/png": "[encoded data removed]",
      "text/latex": [
       "$$\\left ( x_{0}, \\quad x_{1}, \\quad x_{2}\\right )$$"
      ],
      "text/plain": [
       "(x₀, x₁, x₂)"
      ]
     },
     "metadata": {},
     "output_type": "display_data"
    },
    {
     "data": {
      "image/png": "[encoded data removed]",
      "text/latex": [
       "$$\\left \\{ x_{0} : \\left\\{\\operatorname{DiffRow}{\\left (x_{0},x_{1} \\right )}, \\operatorname{DiffRow}{\\left (x_{0},x_{2} \\right )}, \\operatorname{DiffRow}{\\left (x_{0},x_{3} \\right )}, \\operatorname{DiffRow}{\\left (x_{0},x_{4} \\right )}, \\operatorname{DiffRow}{\\left (x_{0},x_{5} \\right )}, \\operatorname{DiffRow}{\\left (x_{0},x_{6} \\right )}, \\operatorname{DiffRow}{\\left (x_{0},x_{7} \\right )}\\right\\}, \\quad x_{1} : \\left\\{\\mathrm{False}\\right\\}, \\quad x_{2} : \\left\\{\\operatorname{DiffRow}{\\left (x_{2},x_{3} \\right )}, \\operatorname{DiffRow}{\\left (x_{2},x_{4} \\right )}, \\operatorname{DiffRow}{\\left (x_{2},x_{5} \\right )}, \\operatorname{DiffRow}{\\left (x_{2},x_{7} \\right )}, \\operatorname{DiffRow}{\\left (x_{6},x_{2} \\right )}\\right\\}, \\quad x_{3} : \\left\\{\\operatorname{DiffRow}{\\left (x_{3},x_{4} \\right )}, \\operatorname{DiffRow}{\\left (x_{3},x_{5} \\right )}, \\operatorname{DiffRow}{\\left (x_{3},x_{7} \\right )}, \\operatorname{DiffRow}{\\left (x_{6},x_{3} \\right )}\\right\\}, \\quad x_{4} : \\left\\{\\operatorname{DiffRow}{\\left (x_{5},x_{4} \\right )}, \\operatorname{DiffRow}{\\left (x_{6},x_{4} \\right )}, \\operatorname{DiffRow}{\\left (x_{7},x_{4} \\right )}\\right\\}, \\quad x_{5} : \\left\\{\\operatorname{DiffRow}{\\left (x_{6},x_{5} \\right )}, \\operatorname{DiffRow}{\\left (x_{7},x_{5} \\right )}\\right\\}, \\quad x_{6} : \\left\\{\\operatorname{DiffRow}{\\left (x_{6},x_{7} \\right )}\\right\\}, \\quad x_{7} : \\left\\{\\right\\}\\right \\}$$"
      ],
      "text/plain": [
       "{x₀: set([DiffRow(x₀, x₁), DiffRow(x₀, x₂), DiffRow(x₀, x₃), DiffRow(x₀, x₄), \n",
       "DiffRow(x₀, x₅), DiffRow(x₀, x₆), DiffRow(x₀, x₇)]), x₁: set([False]), x₂: set\n",
       "([DiffRow(x₂, x₃), DiffRow(x₂, x₄), DiffRow(x₂, x₅), DiffRow(x₂, x₇), DiffRow(\n",
       "x₆, x₂)]), x₃: set([DiffRow(x₃, x₄), DiffRow(x₃, x₅), DiffRow(x₃, x₇), DiffRow\n",
       "(x₆, x₃)]), x₄: set([DiffRow(x₅, x₄), DiffRow(x₆, x₄), DiffRow(x₇, x₄)]), x₅: \n",
       "set([DiffRow(x₆, x₅), DiffRow(x₇, x₅)]), x₆: set([DiffRow(x₆, x₇)]), x₇: set([\n",
       "])}"
      ]
     },
     "metadata": {},
     "output_type": "display_data"
    }
   ],
   "source": [
    "_vars = symbols(\"x:8\")\n",
    "_domain = set(range(1, 9))\n",
    "variables = _vars\n",
    "domains = {v: _domain for v in _vars}\n",
    "_constraints = {x: set() for x in _vars}\n",
    "display(_constraints)\n",
    "display(_vars)\n",
    "display(_domain)\n",
    "\n",
    "# Xi = a, Yi = b\n",
    "_x = symbols(\"x:3\")\n",
    "diffRow = constraint(\"DiffRow\",  Ne(x[0],x[1]))\n",
    "diffDiag = constraint(\"DiffDiag\", Ne(abs(x[0]-x[1]),2))\n",
    "\n",
    "#diffRow = constraint(\"diffRow\", Ne(a,b)) \n",
    "#diffDiag = constraint(\"diffDiag\", Ne(abs(a-b), abs(a_i - b_i)))\n",
    "\n",
    "display(diffRow)\n",
    "display(_x)\n",
    "import copy\n",
    "pairs = [(x1, x2) for x1 in _vars for x2 in _vars if x1!=x2]\n",
    "#pairs = [(x1, x2) for x1 in range(5) for x2 in range(5) if x1!=x2]\n",
    "\n",
    "from itertools import combinations\n",
    "\n",
    "for p in combinations(_vars, 2):\n",
    "    #dr = diffRow.subs ({_x[0]:variables[i], _x[1]:variables[j]})\n",
    "    #dd = diffDiag.subs({_x[0]:variables[i], _x[1]:j-i, _x[2]:variables[j]})\n",
    "    dr = diffRow.subs ({_x[0]:p[0], _x[1]:p[1]})\n",
    "    #dd = diffDiag.subs({_x[0]:p[0], _x[1]:p[1], _x[2]:abs(variables.index(p[0])-variables.index(p[1]))})\n",
    "    _constraints[p[0]].add(dr)\n",
    "    #_constraints[p[0]].add(dd)\n",
    "    #_constraints[p[1]].add(dr)\n",
    "    #_constraints[p[1]].add(dd)\n",
    "\n",
    "display(_constraints)"
   ]
  },
  {
   "cell_type": "code",
   "execution_count": 2,
   "metadata": {},
   "outputs": [
    {
     "data": {
      "image/png": "[encoded data removed]",
      "text/latex": [
       "$$x$$"
      ],
      "text/plain": [
       "x"
      ]
     },
     "metadata": {},
     "output_type": "display_data"
    }
   ],
   "source": [
    "x = Symbol('x')\n",
    "display(x)"
   ]
  },
  {
   "cell_type": "markdown",
   "metadata": {},
   "source": [
    "**You can also create symbols from an iterable sequence using the `symbols()` function.**"
   ]
  },
  {
   "cell_type": "code",
   "execution_count": 3,
   "metadata": {},
   "outputs": [
    {
     "data": {
      "image/png": "[encoded data removed]",
      "text/latex": [
       "$$\\left ( i, \\quad j, \\quad k\\right )$$"
      ],
      "text/plain": [
       "(i, j, k)"
      ]
     },
     "metadata": {},
     "output_type": "display_data"
    }
   ],
   "source": [
    "i, j, k = symbols(['i', 'j', 'k'])  # use implicit unpacking to associate multiple symbols with variables\n",
    "display((i, j, k))"
   ]
  },
  {
   "cell_type": "markdown",
   "metadata": {},
   "source": [
    "**`symbols()` can also create subscripted sequences of symbolic variables.**"
   ]
  },
  {
   "cell_type": "code",
   "execution_count": 46,
   "metadata": {},
   "outputs": [
    {
     "data": {
      "image/png": "[encoded data removed]",
      "text/latex": [
       "$$\\left ( X_{00}, \\quad X_{01}, \\quad X_{02}\\right )$$"
      ],
      "text/plain": [
       "(X₀₀, X₀₁, X₀₂)"
      ]
     },
     "metadata": {},
     "output_type": "display_data"
    }
   ],
   "source": [
    "X = symbols(\"X:3\")\n",
    "display(X)"
   ]
  },
  {
   "cell_type": "markdown",
   "metadata": {},
   "source": [
    "## Example 2: Expressions\n",
    "\n",
    "**A symbol is the most basic expression.**  (Tip: Jupyter notebooks show information about objects\n",
    "using the `?` magic function)"
   ]
  },
  {
   "cell_type": "code",
   "execution_count": 37,
   "metadata": {
    "collapsed": true
   },
   "outputs": [],
   "source": [
    "x = Symbol('x')\n",
    "x?\n",
    "#display(x)"
   ]
  },
  {
   "cell_type": "markdown",
   "metadata": {},
   "source": [
    "**You can also define expressions with relations between symbols.** (However, notice that expressions have no _names_...)"
   ]
  },
  {
   "cell_type": "code",
   "execution_count": 35,
   "metadata": {},
   "outputs": [
    {
     "data": {
      "image/png": "[encoded data removed]",
      "text/latex": [
       "$$x \\vee y$$"
      ],
      "text/plain": [
       "x ∨ y"
      ]
     },
     "metadata": {},
     "output_type": "display_data"
    }
   ],
   "source": [
    "x, y = symbols('x y')\n",
    "or_relation = x | y\n",
    "or_relation?\n",
    "display(or_relation)"
   ]
  },
  {
   "cell_type": "markdown",
   "metadata": {},
   "source": [
    "**Also, not all operators can be used in expressions.  The equal sign (=) performs assignment in python, so it cannot be used to make expressions.  Using `=` assigns a new python variable to an existing reference.**"
   ]
  },
  {
   "cell_type": "code",
   "execution_count": 36,
   "metadata": {},
   "outputs": [
    {
     "data": {
      "image/png": "[encoded data removed]",
      "text/latex": [
       "$$x$$"
      ],
      "text/plain": [
       "x"
      ]
     },
     "metadata": {},
     "output_type": "display_data"
    },
    {
     "data": {
      "text/plain": [
       "False"
      ]
     },
     "execution_count": 36,
     "metadata": {},
     "output_type": "execute_result"
    }
   ],
   "source": [
    "x, y = symbols(\"x y\")\n",
    "y = x   # now y references the same symbolic object as x\n",
    "display(y)==x  # display(y) == x  ??!"
   ]
  },
  {
   "cell_type": "markdown",
   "metadata": {},
   "source": [
    "**Use `sympy.Eq` for symbolic equality expressions:** (Tip: there are lots of expressions in the [sympy docs](http://docs.sympy.org/dev/modules/core.html#sympy-core))"
   ]
  },
  {
   "cell_type": "code",
   "execution_count": 9,
   "metadata": {},
   "outputs": [
    {
     "data": {
      "image/png": "[encoded data removed]",
      "text/latex": [
       "$$z = x$$"
      ],
      "text/plain": [
       "z = x"
      ]
     },
     "metadata": {},
     "output_type": "display_data"
    }
   ],
   "source": [
    "x, z = symbols(\"x z\")\n",
    "display(Eq(z, x))"
   ]
  },
  {
   "cell_type": "markdown",
   "metadata": {},
   "source": [
    "**Sympy overloads standard python operators so that arithmetic and logical expressions can be constructed directly between symbolic objects.**"
   ]
  },
  {
   "cell_type": "code",
   "execution_count": 10,
   "metadata": {},
   "outputs": [
    {
     "data": {
      "image/png": "[encoded data removed]",
      "text/latex": [
       "$$\\left [ x^{2}, \\quad x - y, \\quad x \\neq y, \\quad y \\wedge z \\wedge \\neg x\\right ]$$"
      ],
      "text/plain": [
       "⎡ 2                          ⎤\n",
       "⎣x , x - y, x ≠ y, y ∧ z ∧ ¬x⎦"
      ]
     },
     "metadata": {},
     "output_type": "display_data"
    }
   ],
   "source": [
    "x, y, z = symbols(\"x y z\")\n",
    "display([x**2, x - y, Ne(x, y), (~x & y & z)])"
   ]
  },
  {
   "cell_type": "markdown",
   "metadata": {},
   "source": [
    "## Example 3: Symbolic substitution and expression evaluation\n",
    "\n",
    "**Given an original expression...**"
   ]
  },
  {
   "cell_type": "code",
   "execution_count": 11,
   "metadata": {},
   "outputs": [
    {
     "data": {
      "image/png": "[encoded data removed]",
      "text/latex": [
       "$$x = y$$"
      ],
      "text/plain": [
       "x = y"
      ]
     },
     "metadata": {},
     "output_type": "display_data"
    }
   ],
   "source": [
    "x, y, z = symbols(\"x y z\")\n",
    "relation = Eq(x, y)\n",
    "display(relation)"
   ]
  },
  {
   "cell_type": "markdown",
   "metadata": {},
   "source": [
    "**Symbolic variables can be replaced by other variables, or by concrete values.** (Tip: use positional arguments in the `subs()` method to replace one symbol)"
   ]
  },
  {
   "cell_type": "code",
   "execution_count": 12,
   "metadata": {},
   "outputs": [
    {
     "data": {
      "image/png": "[encoded data removed]",
      "text/latex": [
       "$$z = y$$"
      ],
      "text/plain": [
       "z = y"
      ]
     },
     "metadata": {},
     "output_type": "display_data"
    }
   ],
   "source": [
    "display(relation.subs(x, z))  # Use positional arguments to substitute a single symbol"
   ]
  },
  {
   "cell_type": "markdown",
   "metadata": {},
   "source": [
    "**But keep in mind that substitution returns a _copy_ of the expression -- it doesn't operate in-place.**  (Tip: as a result, you can use substitution on one expression bound to generic variables to generate new instances bound to specific variables.)\n",
    "\n",
    "Look at what happens when we bind new variables to our equality relation:"
   ]
  },
  {
   "cell_type": "code",
   "execution_count": 13,
   "metadata": {},
   "outputs": [
    {
     "data": {
      "image/png": "[encoded data removed]",
      "text/latex": [
       "$$\\left [ a_{0} = b_{0}, \\quad a_{1} = b_{1}, \\quad a_{2} = b_{2}, \\quad a_{3} = b_{3}, \\quad a_{4} = b_{4}\\right ]$$"
      ],
      "text/plain": [
       "[a₀ = b₀, a₁ = b₁, a₂ = b₂, a₃ = b₃, a₄ = b₄]"
      ]
     },
     "metadata": {},
     "output_type": "display_data"
    }
   ],
   "source": [
    "a = symbols(\"a:5\")\n",
    "b = symbols(\"b:5\")\n",
    "display([relation.subs({x: _a, y: _b}) for _a, _b in zip(a, b)])"
   ]
  },
  {
   "cell_type": "markdown",
   "metadata": {},
   "source": [
    "**Symbol substitution returns an expression.** (Recall that Symbols _are_ expressions)."
   ]
  },
  {
   "cell_type": "code",
   "execution_count": 14,
   "metadata": {},
   "outputs": [
    {
     "name": "stdout",
     "output_type": "stream",
     "text": [
      "<class 'sympy.core.relational.Equality'> <class 'sympy.core.relational.Equality'>\n",
      "True\n"
     ]
    }
   ],
   "source": [
    "print(type(relation), type(relation.subs(x, z)))\n",
    "print(type(relation) == type(relation.subs(x, z)))"
   ]
  },
  {
   "cell_type": "markdown",
   "metadata": {},
   "source": [
    "**But substituting values for all symbols returns a value type.** (Tip: You can substitute multiple symbols in the `subs()` command by providing a mapping (dict) from current symbols to new symbols or values.)"
   ]
  },
  {
   "cell_type": "code",
   "execution_count": 15,
   "metadata": {},
   "outputs": [
    {
     "name": "stdout",
     "output_type": "stream",
     "text": [
      "<class 'sympy.core.relational.Equality'> <class 'sympy.logic.boolalg.BooleanFalse'>\n",
      "True\n"
     ]
    }
   ],
   "source": [
    "print(type(relation), type(relation.subs({x: 0, y: 1})))\n",
    "print(type(relation) != type(relation.subs({x: 0, y: 1})))"
   ]
  },
  {
   "cell_type": "code",
   "execution_count": null,
   "metadata": {
    "collapsed": true
   },
   "outputs": [],
   "source": [
    "_vars = symbols(\"x:8\")\n",
    "_domain = set(range(1, 9))\n",
    "variables = _vars\n",
    "domains = {v: _domain for v in _vars}\n",
    "_constraints = {x: set() for x in _vars}\n",
    "display(_constraints)\n",
    "        "
   ]
  },
  {
   "cell_type": "markdown",
   "metadata": {},
   "source": [
    "## Example 4: Constraints\n",
    "\n",
    "**Constraints are a construct of this lab exercise (not part of sympy) that combine symbolic Functions with Expressions for evaluation. The `constraint()` function (defined in the `util` module) takes a name and an expression and returns a \"named expression\" -- a constraint.**"
   ]
  },
  {
   "cell_type": "code",
   "execution_count": 16,
   "metadata": {},
   "outputs": [
    {
     "data": {
      "image/png": "[encoded data removed]",
      "text/latex": [
       "$$\\operatorname{SameAs}{\\left (x,y \\right )}$$"
      ],
      "text/plain": [
       "SameAs(x, y)"
      ]
     },
     "metadata": {},
     "output_type": "display_data"
    }
   ],
   "source": [
    "x, y = symbols(['x', 'y'])\n",
    "sameAs = constraint(\"SameAs\", Eq(x, y))\n",
    "display(sameAs)"
   ]
  },
  {
   "cell_type": "markdown",
   "metadata": {},
   "source": [
    "**Constraints are evaluated using the .subs method, just like an expression. If the resulting\n",
    "expression has unbound (free) symbols, then the result is a new constraint.**"
   ]
  },
  {
   "cell_type": "code",
   "execution_count": 17,
   "metadata": {},
   "outputs": [
    {
     "data": {
      "image/png": "[encoded data removed]",
      "text/latex": [
       "$$\\operatorname{SameAs}{\\left (y \\right )}$$"
      ],
      "text/plain": [
       "SameAs(y)"
      ]
     },
     "metadata": {},
     "output_type": "display_data"
    },
    {
     "data": {
      "text/plain": [
       "SameAs"
      ]
     },
     "metadata": {},
     "output_type": "display_data"
    }
   ],
   "source": [
    "display(sameAs.subs(x, 0), type(sameAs.subs(x, 0)))"
   ]
  },
  {
   "cell_type": "markdown",
   "metadata": {},
   "source": [
    "**If the resulting expression has no free symbols, then the result is only the evaluated expression.**"
   ]
  },
  {
   "cell_type": "code",
   "execution_count": 20,
   "metadata": {},
   "outputs": [
    {
     "data": {
      "image/png": "[encoded data removed]",
      "text/latex": [
       "$$\\mathrm{False}$$"
      ],
      "text/plain": [
       "False"
      ]
     },
     "metadata": {},
     "output_type": "display_data"
    },
    {
     "data": {
      "text/plain": [
       "sympy.logic.boolalg.BooleanFalse"
      ]
     },
     "metadata": {},
     "output_type": "display_data"
    }
   ],
   "source": [
    "display(sameAs.subs({x: 0, y: 1}), type(sameAs.subs({x: 0, y: 1})))"
   ]
  },
  {
   "cell_type": "markdown",
   "metadata": {},
   "source": [
    "## SymPy Exercises\n",
    "Complete the following exercises to check your understanding of sympy symbols, expressions, and constraints:"
   ]
  },
  {
   "cell_type": "markdown",
   "metadata": {},
   "source": [
    "**Question 1:** Create an array of subscripted symbols A0, A1, A2 stored in a variable named `A`"
   ]
  },
  {
   "cell_type": "code",
   "execution_count": 42,
   "metadata": {},
   "outputs": [
    {
     "name": "stdout",
     "output_type": "stream",
     "text": [
      "All tests passed!\n"
     ]
    }
   ],
   "source": [
    "A = None\n",
    "A = symbols(\"A:3\")\n",
    "# test for completion\n",
    "assert(len(A) == 3)\n",
    "assert(all([type(v) == Symbol for v in A]))\n",
    "print(\"All tests passed!\")"
   ]
  },
  {
   "cell_type": "markdown",
   "metadata": {},
   "source": [
    "**Question 2:** Create an expression E with two generic symbols (e.g., \"a\" and \"b\", etc.) that represents logical XOR"
   ]
  },
  {
   "cell_type": "code",
   "execution_count": 44,
   "metadata": {},
   "outputs": [
    {
     "name": "stdout",
     "output_type": "stream",
     "text": [
      "All tests passed!\n"
     ]
    }
   ],
   "source": [
    "E = None\n",
    "a, b = symbols(\"a b\")\n",
    "E = constraint(\"^\", a^b)\n",
    "# test for completion\n",
    "_vars = E.free_symbols\n",
    "assert(len(_vars) == 2)\n",
    "xor_table = {(0, 0): False, (0, 1): True, (1, 0): True, (1, 1): False}\n",
    "assert(all(E.subs(zip(_vars, vals)) == truth for vals, truth in xor_table.items()))\n",
    "print(\"All tests passed!\")"
   ]
  },
  {
   "cell_type": "markdown",
   "metadata": {},
   "source": [
    "**Question 3:** Create a constraint MaxAbsDiff with three generic arguments to test abs(a - b) < c, and create a copy of the constraint such that it tests abs(A[0] - A[1]) < A[2] from Q1"
   ]
  },
  {
   "cell_type": "code",
   "execution_count": 43,
   "metadata": {},
   "outputs": [
    {
     "name": "stdout",
     "output_type": "stream",
     "text": [
      "All tests passed!\n"
     ]
    }
   ],
   "source": [
    "maxAbsDiff = None  \n",
    "maxAbsDiff_copy = None\n",
    "a, b, c= symbols(['a', 'b', 'c'])\n",
    "maxAbsDiff = constraint(\"MaxAbsDiff\", abs(a-b)<c)\n",
    "maxAbsDiff_copy = maxAbsDiff.subs({a:A[0],b:A[1],c:A[2]})\n",
    "# test for completion\n",
    "assert(maxAbsDiff.free_symbols != maxAbsDiff_copy.free_symbols)\n",
    "assert(len(maxAbsDiff_copy.free_symbols) == len(maxAbsDiff_copy.args))\n",
    "inputs = {(0, 6, 7): True, (6, 0, 7): True, (7, 6, 0): False}\n",
    "assert(all(maxAbsDiff_copy.subs(zip(A[:3], vals)) == truth for vals, truth in inputs.items()))\n",
    "print(\"All tests passed!\")"
   ]
  },
  {
   "cell_type": "markdown",
   "metadata": {},
   "source": [
    "**(Optional) Question 4:** Create a constraint AllDiff accepting the symbols in A as arguments, returning True if they are all different, and False if any pair is the same"
   ]
  },
  {
   "cell_type": "code",
   "execution_count": null,
   "metadata": {
    "collapsed": true
   },
   "outputs": [],
   "source": [
    "allDiff = None\n",
    "import functools\n",
    "stdsig = lambda(A, reduce(lambda x, y:x^y, A))\n",
    "\n",
    "allDiff = constraint(\"AllDiff\", )\n",
    "inputs = (([0, 1, 2], True), ([1, 1, 1], False), ([0, 1, 1], False))\n",
    "assert(all(allDiff.subs(zip(A, vals)) == truth for vals, truth in inputs))\n",
    "print(\"All tests passed!\")"
   ]
  }
 ],
 "metadata": {
  "anaconda-cloud": {},
  "kernelspec": {
   "display_name": "Python 3",
   "language": "python",
   "name": "python3"
  },
  "language_info": {
   "codemirror_mode": {
    "name": "ipython",
    "version": 3
   },
   "file_extension": ".py",
   "mimetype": "text/x-python",
   "name": "python",
   "nbconvert_exporter": "python",
   "pygments_lexer": "ipython3",
   "version": "3.6.0"
  }
 },
 "nbformat": 4,
 "nbformat_minor": 1
}
